{
  "nbformat": 4,
  "nbformat_minor": 0,
  "metadata": {
    "colab": {
      "provenance": [],
      "authorship_tag": "ABX9TyPr7T0KNM2tdJMW6NVDe1IQ",
      "include_colab_link": true
    },
    "kernelspec": {
      "name": "python3",
      "display_name": "Python 3"
    },
    "language_info": {
      "name": "python"
    }
  },
  "cells": [
    {
      "cell_type": "markdown",
      "metadata": {
        "id": "view-in-github",
        "colab_type": "text"
      },
      "source": [
        "<a href=\"https://colab.research.google.com/github/VishalC02/Machine-Learning/blob/main/CustomException.ipynb\" target=\"_parent\"><img src=\"https://colab.research.google.com/assets/colab-badge.svg\" alt=\"Open In Colab\"/></a>"
      ]
    },
    {
      "cell_type": "code",
      "execution_count": 1,
      "metadata": {
        "id": "RjInbSIcO-xa"
      },
      "outputs": [],
      "source": [
        "#Custom Exception\n",
        "class CustomException(Exception):\n",
        "    pass\n",
        "\n",
        "class dobException(CustomException):\n",
        "    pass\n",
        "\n"
      ]
    },
    {
      "cell_type": "code",
      "source": [
        "year=int(input(\"Enter your year of birth\"))\n",
        "age=2020-year\n",
        "try:\n",
        "    if age <=30 & age>20:\n",
        "        print(\"you are eligible\")\n",
        "    else:\n",
        "        raise dobException\n",
        "except dobException :\n",
        "    print(\"You are not eligible\")\n"
      ],
      "metadata": {
        "colab": {
          "base_uri": "https://localhost:8080/"
        },
        "collapsed": true,
        "id": "d1df5OvOPiIE",
        "outputId": "6c582565-5ab7-41a9-d6d8-5cebfab2dae1"
      },
      "execution_count": 7,
      "outputs": [
        {
          "output_type": "stream",
          "name": "stdout",
          "text": [
            "Enter your year of birth1999\n",
            "You are not eligible\n"
          ]
        }
      ]
    },
    {
      "cell_type": "code",
      "source": [],
      "metadata": {
        "id": "ikwo8IchQPn9"
      },
      "execution_count": null,
      "outputs": []
    }
  ]
}