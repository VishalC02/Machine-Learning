{
  "nbformat": 4,
  "nbformat_minor": 0,
  "metadata": {
    "colab": {
      "provenance": [],
      "authorship_tag": "ABX9TyP+o+hpWnmrfjcBIysAjJ7N",
      "include_colab_link": true
    },
    "kernelspec": {
      "name": "python3",
      "display_name": "Python 3"
    },
    "language_info": {
      "name": "python"
    }
  },
  "cells": [
    {
      "cell_type": "markdown",
      "metadata": {
        "id": "view-in-github",
        "colab_type": "text"
      },
      "source": [
        "<a href=\"https://colab.research.google.com/github/VishalC02/Machine-Learning/blob/main/ObjectOrintedProgramming.ipynb\" target=\"_parent\"><img src=\"https://colab.research.google.com/assets/colab-badge.svg\" alt=\"Open In Colab\"/></a>"
      ]
    },
    {
      "cell_type": "code",
      "execution_count": null,
      "metadata": {
        "id": "aexHM0Wvmxb8"
      },
      "outputs": [],
      "source": [
        "#OOP\n",
        "#init method is also called as contructor\n",
        "class Person:\n",
        "  def __init__(self,first_name,last_name,age):\n",
        "    #instance variables\n",
        "    self.first_name=first_name\n",
        "    self.last_name=last_name\n",
        "    self.age=age"
      ]
    },
    {
      "cell_type": "code",
      "source": [
        "p1=Person(\"Vishal\",'Choudhari',21)\n",
        "p2=Person(\"Aman\",'Choudhari',21)"
      ],
      "metadata": {
        "id": "y1i-1G6Hq_d3"
      },
      "execution_count": null,
      "outputs": []
    },
    {
      "cell_type": "code",
      "source": [
        "p1.first_name"
      ],
      "metadata": {
        "colab": {
          "base_uri": "https://localhost:8080/",
          "height": 36
        },
        "id": "_IR9FIHIrdDr",
        "outputId": "396e4a98-de87-4f50-b8a8-d7e1a97d7390"
      },
      "execution_count": null,
      "outputs": [
        {
          "output_type": "execute_result",
          "data": {
            "text/plain": [
              "'Vishal'"
            ],
            "application/vnd.google.colaboratory.intrinsic+json": {
              "type": "string"
            }
          },
          "metadata": {},
          "execution_count": 3
        }
      ]
    },
    {
      "cell_type": "code",
      "source": [
        "p2.last_name"
      ],
      "metadata": {
        "colab": {
          "base_uri": "https://localhost:8080/",
          "height": 36
        },
        "id": "tn4a7WYqrgML",
        "outputId": "9ae0ed21-adb5-4ffc-a454-d5c37858af7d"
      },
      "execution_count": null,
      "outputs": [
        {
          "output_type": "execute_result",
          "data": {
            "text/plain": [
              "'Choudhari'"
            ],
            "application/vnd.google.colaboratory.intrinsic+json": {
              "type": "string"
            }
          },
          "metadata": {},
          "execution_count": 4
        }
      ]
    },
    {
      "cell_type": "code",
      "source": [
        "#Excercise\n",
        "\n",
        "class Laptop:\n",
        "  def __init__(self,brand,model,price):\n",
        "    self.brand=brand\n",
        "    self.model=model\n",
        "    self.price=price\n",
        "\n",
        "  def apply_discount(self,discount):\n",
        "    self.price=self.price-self.price*discount/100\n",
        "\n",
        "a1=Laptop('Hp','au114tx',50000)\n",
        "a2=Laptop('Dell','inspiron',60000)\n",
        "\n",
        "print(a1.price)\n",
        "a1.apply_discount(10)\n",
        "print(a1.price)\n"
      ],
      "metadata": {
        "colab": {
          "base_uri": "https://localhost:8080/"
        },
        "id": "OrwzAgD9sM9I",
        "outputId": "908176f2-883e-4680-dd23-94e713700147"
      },
      "execution_count": null,
      "outputs": [
        {
          "output_type": "stream",
          "name": "stdout",
          "text": [
            "50000\n",
            "45000.0\n"
          ]
        }
      ]
    },
    {
      "cell_type": "code",
      "source": [
        "#Instance Method\n",
        "class Person:\n",
        "  def __init__(self,first_name,last_name,age):\n",
        "    #instance variables\n",
        "    self.first_name=first_name\n",
        "    self.last_name=last_name\n",
        "    self.age=age\n",
        "\n",
        "  def full_name(self):\n",
        "    return f\"{self.first_name} {self.last_name}\"\n",
        "\n",
        "p1=Person('Vishal', 'Choudhari', 21)\n",
        "print(p1.full_name())\n",
        "\n",
        "#print(Person.full_name(p1))"
      ],
      "metadata": {
        "colab": {
          "base_uri": "https://localhost:8080/"
        },
        "id": "va9wJubouB46",
        "outputId": "c3a8d506-7ac8-49ad-eca7-d43cf0c90806"
      },
      "execution_count": null,
      "outputs": [
        {
          "output_type": "stream",
          "name": "stdout",
          "text": [
            "Vishal Choudhari\n",
            "Vishal Choudhari\n"
          ]
        }
      ]
    },
    {
      "cell_type": "code",
      "source": [
        "#Class variable\n",
        "class Circle:\n",
        "  pi=3.14\n",
        "  def __init__(self,radius):\n",
        "    self.radius=radius\n",
        "\n",
        "  def area(self):\n",
        "    return self.radius*self.radius*Circle.pi\n",
        "\n",
        "  def circumference(self):\n",
        "    return 2*Circle.pi*self.radius\n",
        "\n",
        "c1=Circle(5)\n",
        "print(c1.area())\n",
        "print(c1.circumference())"
      ],
      "metadata": {
        "colab": {
          "base_uri": "https://localhost:8080/"
        },
        "id": "FGOl3yu_v88f",
        "outputId": "0bf21ff3-2058-4b3b-86fe-60171b78050f"
      },
      "execution_count": null,
      "outputs": [
        {
          "output_type": "stream",
          "name": "stdout",
          "text": [
            "78.5\n",
            "31.400000000000002\n"
          ]
        }
      ]
    },
    {
      "cell_type": "code",
      "source": [],
      "metadata": {
        "id": "Ndw5ioSif276"
      },
      "execution_count": null,
      "outputs": []
    }
  ]
}