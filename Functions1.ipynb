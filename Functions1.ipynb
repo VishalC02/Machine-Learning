{
  "nbformat": 4,
  "nbformat_minor": 0,
  "metadata": {
    "colab": {
      "provenance": [],
      "authorship_tag": "ABX9TyO0LXByLzBm4moGEgzfJiG3",
      "include_colab_link": true
    },
    "kernelspec": {
      "name": "python3",
      "display_name": "Python 3"
    },
    "language_info": {
      "name": "python"
    }
  },
  "cells": [
    {
      "cell_type": "markdown",
      "metadata": {
        "id": "view-in-github",
        "colab_type": "text"
      },
      "source": [
        "<a href=\"https://colab.research.google.com/github/VishalC02/Machine-Learning/blob/main/Functions1.ipynb\" target=\"_parent\"><img src=\"https://colab.research.google.com/assets/colab-badge.svg\" alt=\"Open In Colab\"/></a>"
      ]
    },
    {
      "cell_type": "code",
      "source": [
        "#Map function\n",
        "\n",
        "def even_or_odd(num):\n",
        "    if num%2==0:\n",
        "        return 'The number {} is Even'.format(num)\n",
        "    else:\n",
        "        return 'The number {} is Odd'.format(num)\n"
      ],
      "metadata": {
        "id": "MwBNbByQedvq"
      },
      "execution_count": 3,
      "outputs": []
    },
    {
      "cell_type": "code",
      "source": [
        "even_or_odd(4)"
      ],
      "metadata": {
        "colab": {
          "base_uri": "https://localhost:8080/",
          "height": 36
        },
        "id": "LraS-dkUfPcC",
        "outputId": "2be6281d-5f5e-4345-a3d6-9e3bbf228148"
      },
      "execution_count": 4,
      "outputs": [
        {
          "output_type": "execute_result",
          "data": {
            "text/plain": [
              "'The number 4 is Even'"
            ],
            "application/vnd.google.colaboratory.intrinsic+json": {
              "type": "string"
            }
          },
          "metadata": {},
          "execution_count": 4
        }
      ]
    },
    {
      "cell_type": "code",
      "source": [
        "lst=[1,2,3,4,5,6,7,8,9,12,33,44,55]"
      ],
      "metadata": {
        "id": "15Zf268wfWZt"
      },
      "execution_count": 5,
      "outputs": []
    },
    {
      "cell_type": "code",
      "source": [
        "list(map(even_or_odd,lst))"
      ],
      "metadata": {
        "colab": {
          "base_uri": "https://localhost:8080/"
        },
        "id": "KPs-aokofo1v",
        "outputId": "ef354678-4a04-4f1d-b336-f803c7415caa"
      },
      "execution_count": 8,
      "outputs": [
        {
          "output_type": "execute_result",
          "data": {
            "text/plain": [
              "['The number 1 is Odd',\n",
              " 'The number 2 is Even',\n",
              " 'The number 3 is Odd',\n",
              " 'The number 4 is Even',\n",
              " 'The number 5 is Odd',\n",
              " 'The number 6 is Even',\n",
              " 'The number 7 is Odd',\n",
              " 'The number 8 is Even',\n",
              " 'The number 9 is Odd',\n",
              " 'The number 12 is Even',\n",
              " 'The number 33 is Odd',\n",
              " 'The number 44 is Even',\n",
              " 'The number 55 is Odd']"
            ]
          },
          "metadata": {},
          "execution_count": 8
        }
      ]
    },
    {
      "cell_type": "code",
      "source": [
        "#Lambda Functions\n",
        "#Function with no name\n",
        "def addition(a,b):\n",
        "  return a+b"
      ],
      "metadata": {
        "id": "q-oxs_PrftHa"
      },
      "execution_count": 9,
      "outputs": []
    },
    {
      "cell_type": "code",
      "source": [
        "addition(2,3)"
      ],
      "metadata": {
        "colab": {
          "base_uri": "https://localhost:8080/"
        },
        "id": "UT1sYVxtgXEA",
        "outputId": "34114f56-2807-4548-b01d-c1fc76d3c7ce"
      },
      "execution_count": 10,
      "outputs": [
        {
          "output_type": "execute_result",
          "data": {
            "text/plain": [
              "5"
            ]
          },
          "metadata": {},
          "execution_count": 10
        }
      ]
    },
    {
      "cell_type": "code",
      "source": [
        "addition=lambda a,b:a+b"
      ],
      "metadata": {
        "colab": {
          "base_uri": "https://localhost:8080/"
        },
        "id": "MlqyZxODgZBg",
        "outputId": "f280ef3d-dd31-4f37-a9af-d3675f10920f"
      },
      "execution_count": 11,
      "outputs": [
        {
          "output_type": "execute_result",
          "data": {
            "text/plain": [
              "<function __main__.<lambda>(a, b)>"
            ]
          },
          "metadata": {},
          "execution_count": 11
        }
      ]
    },
    {
      "cell_type": "code",
      "source": [
        "addition(2,3)"
      ],
      "metadata": {
        "colab": {
          "base_uri": "https://localhost:8080/"
        },
        "id": "lEm9rxGRgjkx",
        "outputId": "2bd043b8-832f-40c7-8608-463b09a83638"
      },
      "execution_count": 12,
      "outputs": [
        {
          "output_type": "execute_result",
          "data": {
            "text/plain": [
              "5"
            ]
          },
          "metadata": {},
          "execution_count": 12
        }
      ]
    },
    {
      "cell_type": "code",
      "source": [
        "#Filter Function\n",
        "def even(num):\n",
        "  if num%2==0:\n",
        "    return True"
      ],
      "metadata": {
        "id": "GWJhahMjguIX"
      },
      "execution_count": 13,
      "outputs": []
    },
    {
      "cell_type": "code",
      "source": [
        "lst=[1,2,3,4,5,6,7,8,9,10]"
      ],
      "metadata": {
        "id": "3zhsN7oVhu9k"
      },
      "execution_count": 14,
      "outputs": []
    },
    {
      "cell_type": "code",
      "source": [
        "list(filter(even,lst))"
      ],
      "metadata": {
        "colab": {
          "base_uri": "https://localhost:8080/"
        },
        "id": "5y840YKdhyYt",
        "outputId": "9f44879f-45ff-406b-fde7-c21cc0d96549"
      },
      "execution_count": 15,
      "outputs": [
        {
          "output_type": "execute_result",
          "data": {
            "text/plain": [
              "[2, 4, 6, 8, 10]"
            ]
          },
          "metadata": {},
          "execution_count": 15
        }
      ]
    },
    {
      "cell_type": "code",
      "source": [
        "list(filter(lambda num:num%2==0,lst))"
      ],
      "metadata": {
        "colab": {
          "base_uri": "https://localhost:8080/"
        },
        "id": "1T7WZ_tvh8wU",
        "outputId": "2867f3c4-701c-4371-a819-5c2d243416c0"
      },
      "execution_count": 16,
      "outputs": [
        {
          "output_type": "execute_result",
          "data": {
            "text/plain": [
              "[2, 4, 6, 8, 10]"
            ]
          },
          "metadata": {},
          "execution_count": 16
        }
      ]
    },
    {
      "cell_type": "code",
      "source": [
        "list(map(lambda num:num%2==0,lst))"
      ],
      "metadata": {
        "colab": {
          "base_uri": "https://localhost:8080/"
        },
        "id": "-WbjP-1GiNLu",
        "outputId": "3835bcaf-1dcb-4caf-c75c-a949cba62913"
      },
      "execution_count": 17,
      "outputs": [
        {
          "output_type": "execute_result",
          "data": {
            "text/plain": [
              "[False, True, False, True, False, True, False, True, False, True]"
            ]
          },
          "metadata": {},
          "execution_count": 17
        }
      ]
    },
    {
      "cell_type": "code",
      "source": [
        "#REduce function"
      ],
      "metadata": {
        "id": "iy07dVx0iXKE"
      },
      "execution_count": null,
      "outputs": []
    }
  ]
}