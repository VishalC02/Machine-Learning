{
  "nbformat": 4,
  "nbformat_minor": 0,
  "metadata": {
    "colab": {
      "provenance": [],
      "toc_visible": true,
      "authorship_tag": "ABX9TyP9wlWd5w58Ag0tSlfAABtW",
      "include_colab_link": true
    },
    "kernelspec": {
      "name": "python3",
      "display_name": "Python 3"
    },
    "language_info": {
      "name": "python"
    }
  },
  "cells": [
    {
      "cell_type": "markdown",
      "metadata": {
        "id": "view-in-github",
        "colab_type": "text"
      },
      "source": [
        "<a href=\"https://colab.research.google.com/github/VishalC02/Machine-Learning/blob/main/Untitled0.ipynb\" target=\"_parent\"><img src=\"https://colab.research.google.com/assets/colab-badge.svg\" alt=\"Open In Colab\"/></a>"
      ]
    },
    {
      "cell_type": "code",
      "source": [
        "lst=['Mathematics',100]\n",
        "print(lst)\n",
        "len(lst)\n",
        "lst.append('Vishal')\n",
        "print(lst)\n",
        "lst[2]\n",
        "lst[:2]\n",
        "lst.append(['Yash','chinmay'])\n",
        "print(lst)\n"
      ],
      "metadata": {
        "colab": {
          "base_uri": "https://localhost:8080/"
        },
        "id": "kDQc8673PpaW",
        "outputId": "7a1a55e9-e73c-4ec9-f74d-630c61d6a3fd"
      },
      "execution_count": 20,
      "outputs": [
        {
          "output_type": "stream",
          "name": "stdout",
          "text": [
            "['Mathematics', 100]\n",
            "['Mathematics', 100, 'Vishal']\n",
            "['Mathematics', 100, 'Vishal', ['Yash', 'chinmay']]\n"
          ]
        }
      ]
    },
    {
      "cell_type": "code",
      "source": [
        "#Insert\n",
        "lst.insert(1,'Choudhari')\n",
        "print(lst)\n",
        "lst.pop(3)\n",
        "print(lst)\n",
        "lst.count('Choudhari')\n",
        "lst.index('Vishal')"
      ],
      "metadata": {
        "colab": {
          "base_uri": "https://localhost:8080/"
        },
        "id": "9JiJopM1RsyX",
        "outputId": "260e868a-000c-4904-c6de-2afe204e4608"
      },
      "execution_count": 33,
      "outputs": [
        {
          "output_type": "stream",
          "name": "stdout",
          "text": [
            "['Mathematics', 'Choudhari', 'Choudhari', 'Choudhari', 'Choudhari', 'Vishal', ['Yash', 'chinmay']]\n",
            "['Mathematics', 'Choudhari', 'Choudhari', 'Choudhari', 'Vishal', ['Yash', 'chinmay']]\n"
          ]
        },
        {
          "output_type": "execute_result",
          "data": {
            "text/plain": [
              "4"
            ]
          },
          "metadata": {},
          "execution_count": 33
        }
      ]
    },
    {
      "cell_type": "code",
      "source": [
        "#Sets\n",
        "st_var=set()\n",
        "st_var={1,2,3,4,3}\n",
        "st_var\n",
        "st_var={'Avengers','Ironman','Hulk'}\n",
        "print(st_var)\n",
        "st_var.add('Thor')\n",
        "print(st_var)"
      ],
      "metadata": {
        "colab": {
          "base_uri": "https://localhost:8080/"
        },
        "id": "_ODqMnldUQZz",
        "outputId": "58752435-7a38-4f7f-e738-2cb79d2bc3c2"
      },
      "execution_count": 39,
      "outputs": [
        {
          "output_type": "stream",
          "name": "stdout",
          "text": [
            "{'Avengers', 'Hulk', 'Ironman'}\n",
            "{'Thor', 'Avengers', 'Hulk', 'Ironman'}\n"
          ]
        }
      ]
    },
    {
      "cell_type": "code",
      "source": [
        "#Dictionaries\n",
        "dic={}\n",
        "type(dic)\n",
        "mydict={'Car1':'Audi','Car2':'BMW','Car3':\"Buggati\"}\n",
        "mydict\n",
        "for i in mydict:\n",
        "  print(i)\n",
        "\n",
        "for i in mydict.values():\n",
        "  print(i)\n",
        "\n",
        "for i in mydict.items():\n",
        "  print(i)\n",
        "\n",
        "#Add items in dictionary\n",
        "mydict['Car4']='Volvo'\n",
        "mydict"
      ],
      "metadata": {
        "colab": {
          "base_uri": "https://localhost:8080/"
        },
        "id": "V0m2D2E3Vp-w",
        "outputId": "6fa7f791-40b6-4487-fa43-ecde59a66011"
      },
      "execution_count": 47,
      "outputs": [
        {
          "output_type": "stream",
          "name": "stdout",
          "text": [
            "Car1\n",
            "Car2\n",
            "Car3\n",
            "Audi\n",
            "BMW\n",
            "Buggati\n",
            "('Car1', 'Audi')\n",
            "('Car2', 'BMW')\n",
            "('Car3', 'Buggati')\n"
          ]
        },
        {
          "output_type": "execute_result",
          "data": {
            "text/plain": [
              "{'Car1': 'Audi', 'Car2': 'BMW', 'Car3': 'Buggati', 'Car4': 'Volvo'}"
            ]
          },
          "metadata": {},
          "execution_count": 47
        }
      ]
    },
    {
      "cell_type": "code",
      "source": [
        "#NestedmDictionary\n",
        "car1model={'Mercedes':1960}\n",
        "car2model={'Audi':1970}\n",
        "car3model={'Ambassador':1980}\n",
        "\n",
        "cartype={'car1':car1model,'car2':car2model,'car3':car3model}\n",
        "print(cartype)\n",
        "\n",
        "#accessing item in dectionaries\n",
        "print(cartype['car1'])\n",
        "\n",
        "print(cartype['car1']['Mercedes'])"
      ],
      "metadata": {
        "colab": {
          "base_uri": "https://localhost:8080/"
        },
        "id": "0Kwg8M8sX6iQ",
        "outputId": "b1ef51e1-72c7-4a42-8bf4-3f38b3a522d9"
      },
      "execution_count": 55,
      "outputs": [
        {
          "output_type": "stream",
          "name": "stdout",
          "text": [
            "{'car1': {'Mercedes': 1960}, 'car2': {'Audi': 1970}, 'car3': {'Ambassador': 1980}}\n",
            "{'Mercedes': 1960}\n",
            "1960\n"
          ]
        }
      ]
    },
    {
      "cell_type": "code",
      "source": [
        "#Tuples\n",
        "mytuple=('Vishal','Choudhari',21)\n",
        "print(mytuple)"
      ],
      "metadata": {
        "colab": {
          "base_uri": "https://localhost:8080/"
        },
        "id": "1G09EQooZzrr",
        "outputId": "a67ba2db-2e97-4ccc-f56a-15509ee7475f"
      },
      "execution_count": 57,
      "outputs": [
        {
          "output_type": "stream",
          "name": "stdout",
          "text": [
            "('Vishal', 'Choudhari', 21)\n"
          ]
        }
      ]
    }
  ]
}