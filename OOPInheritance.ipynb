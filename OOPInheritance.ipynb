{
  "nbformat": 4,
  "nbformat_minor": 0,
  "metadata": {
    "colab": {
      "provenance": [],
      "authorship_tag": "ABX9TyOAJkdNu2Gu0tkGr+JxYJHv",
      "include_colab_link": true
    },
    "kernelspec": {
      "name": "python3",
      "display_name": "Python 3"
    },
    "language_info": {
      "name": "python"
    }
  },
  "cells": [
    {
      "cell_type": "markdown",
      "metadata": {
        "id": "view-in-github",
        "colab_type": "text"
      },
      "source": [
        "<a href=\"https://colab.research.google.com/github/VishalC02/Machine-Learning/blob/main/OOPInheritance.ipynb\" target=\"_parent\"><img src=\"https://colab.research.google.com/assets/colab-badge.svg\" alt=\"Open In Colab\"/></a>"
      ]
    },
    {
      "cell_type": "code",
      "execution_count": 1,
      "metadata": {
        "id": "Rsm5Lv-xW8uO"
      },
      "outputs": [],
      "source": [
        "#Inheritance\n",
        "class Car():\n",
        "    def __init__(self, model, color):\n",
        "        self.model = model\n",
        "        self.color = color\n",
        "    def show(self):\n",
        "        print(\"Model: \", self.model)\n",
        "        print(\"Color: \", self.color)"
      ]
    },
    {
      "cell_type": "code",
      "source": [
        "car=Car(\"BMW\", \"Red\")\n",
        "car.show()"
      ],
      "metadata": {
        "colab": {
          "base_uri": "https://localhost:8080/"
        },
        "id": "MuLFo4K1XLAo",
        "outputId": "c572e8ca-3bef-48b2-94e4-377e9faf8bfc"
      },
      "execution_count": 2,
      "outputs": [
        {
          "output_type": "stream",
          "name": "stdout",
          "text": [
            "Model:  BMW\n",
            "Color:  Red\n"
          ]
        }
      ]
    },
    {
      "cell_type": "code",
      "source": [
        "class audi(Car):\n",
        "  def __init__(self, model, color, company):\n",
        "    super().__init__(model, color)\n",
        "    self.company = company\n",
        "\n",
        "  def show(self):\n",
        "    super().show()\n",
        "    print(\"Company: \", self.company)"
      ],
      "metadata": {
        "id": "6sxRAj-mXfn-"
      },
      "execution_count": 4,
      "outputs": []
    },
    {
      "cell_type": "code",
      "source": [
        "audi=audi(\"A6\", \"Blue\", \"Audi\")\n",
        "audi.show()"
      ],
      "metadata": {
        "colab": {
          "base_uri": "https://localhost:8080/"
        },
        "id": "ILAV9cJPXuXH",
        "outputId": "7b5008f8-24c2-4f05-a0e6-6f63ac728213"
      },
      "execution_count": 5,
      "outputs": [
        {
          "output_type": "stream",
          "name": "stdout",
          "text": [
            "Model:  A6\n",
            "Color:  Blue\n",
            "Company:  Audi\n"
          ]
        }
      ]
    },
    {
      "cell_type": "code",
      "source": [],
      "metadata": {
        "id": "XUaMFN7bX7fG"
      },
      "execution_count": null,
      "outputs": []
    }
  ]
}