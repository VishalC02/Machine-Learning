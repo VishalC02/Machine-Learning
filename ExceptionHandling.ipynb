{
  "nbformat": 4,
  "nbformat_minor": 0,
  "metadata": {
    "colab": {
      "provenance": [],
      "authorship_tag": "ABX9TyMfYx474W2dksiLb3z0rmhI",
      "include_colab_link": true
    },
    "kernelspec": {
      "name": "python3",
      "display_name": "Python 3"
    },
    "language_info": {
      "name": "python"
    }
  },
  "cells": [
    {
      "cell_type": "markdown",
      "metadata": {
        "id": "view-in-github",
        "colab_type": "text"
      },
      "source": [
        "<a href=\"https://colab.research.google.com/github/VishalC02/Machine-Learning/blob/main/ExceptionHandling.ipynb\" target=\"_parent\"><img src=\"https://colab.research.google.com/assets/colab-badge.svg\" alt=\"Open In Colab\"/></a>"
      ]
    },
    {
      "cell_type": "code",
      "execution_count": 6,
      "metadata": {
        "colab": {
          "base_uri": "https://localhost:8080/"
        },
        "id": "MohgMYilJ-jD",
        "outputId": "abc43d4a-987e-4cda-dad4-86111c861111"
      },
      "outputs": [
        {
          "output_type": "stream",
          "name": "stdout",
          "text": [
            "unsupported operand type(s) for +: 'int' and 'str'\n"
          ]
        }
      ],
      "source": [
        "#Python Exception Handling\n",
        "try:\n",
        "  ##code block where exception can occur\n",
        "  a=1\n",
        "  b='s'\n",
        "  c=a+b\n",
        "except NameError as ex1:\n",
        "  print(\"The user have not define variable \")\n",
        "except Exception as ex:\n",
        "  print(ex)"
      ]
    },
    {
      "cell_type": "code",
      "source": [
        "try:\n",
        "  ##code block where exception can occur\n",
        "  a=1\n",
        "  b='s'\n",
        "  c=a+b\n",
        "except NameError as ex1:\n",
        "  print(\"The user have not define variable \")\n",
        "except TypeError as ex2:\n",
        "  print(\"Try to make data type similar \")\n",
        "except Exception as ex:\n",
        "  print(ex)"
      ],
      "metadata": {
        "colab": {
          "base_uri": "https://localhost:8080/"
        },
        "id": "qzZfgPa6KIIR",
        "outputId": "f61063fa-22d6-4578-9703-f56ae1e956a2"
      },
      "execution_count": 8,
      "outputs": [
        {
          "output_type": "stream",
          "name": "stdout",
          "text": [
            "Try to make data type similar \n"
          ]
        }
      ]
    },
    {
      "cell_type": "code",
      "source": [
        "try:\n",
        "  ##code block where exception can occur\n",
        "  a=int(input(\"Enter a number 1: \"))\n",
        "  b=int(input(\"Enter a number 2: \"))\n",
        "  c=a+b\n",
        "  d=a*b\n",
        "  e=a/b\n",
        "  print(c)\n",
        "  print(d)\n",
        "  print(e)\n",
        "\n",
        "except NameError as ex1:\n",
        "  print(\"The user have not define variable \")\n",
        "except TypeError as ex2:\n",
        "  print(\"Try to make data type similar \")\n",
        "except Exception as ex:\n",
        "  print(ex)\n",
        "\n",
        ""
      ],
      "metadata": {
        "colab": {
          "base_uri": "https://localhost:8080/"
        },
        "id": "_u6M1GORMBzu",
        "outputId": "c50a1181-1417-4cd9-e968-9c7ac50173a0"
      },
      "execution_count": 12,
      "outputs": [
        {
          "output_type": "stream",
          "name": "stdout",
          "text": [
            "Enter a number 1: 12\n",
            "Enter a number 2: 4\n",
            "16\n",
            "48\n",
            "3.0\n"
          ]
        }
      ]
    },
    {
      "cell_type": "code",
      "source": [
        "#try else\n",
        "try:\n",
        "  ##code block where exception can occur\n",
        "  a=int(input(\"Enter a number 1: \"))\n",
        "  b=int(input(\"Enter a number 2: \"))\n",
        "  c=a+b\n",
        "  d=a*b\n",
        "  e=a/b\n",
        "\n",
        "\n",
        "except NameError as ex1:\n",
        "  print(\"The user have not define variable \")\n",
        "except TypeError as ex2:\n",
        "  print(\"Try to make data type similar \")\n",
        "except Exception as ex:\n",
        "  print(ex)\n",
        "else:\n",
        "    print(c)\n",
        "    print(d)\n",
        "    print(e)"
      ],
      "metadata": {
        "id": "xZtP1uYPN4-C"
      },
      "execution_count": null,
      "outputs": []
    },
    {
      "cell_type": "code",
      "source": [
        "#try else finally\n",
        "#try else\n",
        "try:\n",
        "  ##code block where exception can occur\n",
        "  a=int(input(\"Enter a number 1: \"))\n",
        "  b=int(input(\"Enter a number 2: \"))\n",
        "  c=a+b\n",
        "  d=a*b\n",
        "  e=a/b\n",
        "\n",
        "\n",
        "except NameError as ex1:\n",
        "  print(\"The user have not define variable \")\n",
        "except TypeError as ex2:\n",
        "  print(\"Try to make data type similar \")\n",
        "except Exception as ex:\n",
        "  print(ex)\n",
        "else:\n",
        "    print(c)\n",
        "    print(d)\n",
        "    print(e)\n",
        "finally:\n",
        "    print(\"The execution is done\")"
      ],
      "metadata": {
        "colab": {
          "base_uri": "https://localhost:8080/"
        },
        "id": "AH5GKy2SN66A",
        "outputId": "9474c700-cf40-4b58-fd87-623adb4e1650"
      },
      "execution_count": 18,
      "outputs": [
        {
          "output_type": "stream",
          "name": "stdout",
          "text": [
            "Enter a number 1: 12\n",
            "Enter a number 2: 0\n",
            "division by zero\n",
            "The execution is done\n"
          ]
        }
      ]
    },
    {
      "cell_type": "code",
      "source": [],
      "metadata": {
        "id": "ELaCQKGpOC8w"
      },
      "execution_count": null,
      "outputs": []
    }
  ]
}