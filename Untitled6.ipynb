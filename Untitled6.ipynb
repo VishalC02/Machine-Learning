{
  "nbformat": 4,
  "nbformat_minor": 0,
  "metadata": {
    "colab": {
      "provenance": [],
      "authorship_tag": "ABX9TyOpgE3f5kKTwjuvHaMKH73L",
      "include_colab_link": true
    },
    "kernelspec": {
      "name": "python3",
      "display_name": "Python 3"
    },
    "language_info": {
      "name": "python"
    }
  },
  "cells": [
    {
      "cell_type": "markdown",
      "metadata": {
        "id": "view-in-github",
        "colab_type": "text"
      },
      "source": [
        "<a href=\"https://colab.research.google.com/github/VishalC02/Machine-Learning/blob/main/Untitled6.ipynb\" target=\"_parent\"><img src=\"https://colab.research.google.com/assets/colab-badge.svg\" alt=\"Open In Colab\"/></a>"
      ]
    },
    {
      "cell_type": "code",
      "execution_count": null,
      "metadata": {
        "id": "r-w_YebMkxhv",
        "colab": {
          "base_uri": "https://localhost:8080/"
        },
        "outputId": "b1df1036-d973-4f84-8a69-1271f4476783"
      },
      "outputs": [
        {
          "output_type": "stream",
          "name": "stdout",
          "text": [
            "3\n",
            "5\n"
          ]
        }
      ],
      "source": [
        "#Functions in python\n",
        "def add_two(a,b):\n",
        "  return a+b\n",
        "total=add_two(1,2)\n",
        "print(  total)\n",
        "print(add_two(2,3))"
      ]
    },
    {
      "cell_type": "code",
      "source": [
        "#return vs print\n",
        "def add_three(a,b,c):\n",
        "  print(a+b+c)\n",
        "  return a+b+c\n",
        "add_three(1,2,3)\n"
      ],
      "metadata": {
        "colab": {
          "base_uri": "https://localhost:8080/"
        },
        "id": "shUXOYM4mfqz",
        "outputId": "d2541846-4340-480f-a84d-4eb07b963c62"
      },
      "execution_count": null,
      "outputs": [
        {
          "output_type": "stream",
          "name": "stdout",
          "text": [
            "6\n"
          ]
        },
        {
          "output_type": "execute_result",
          "data": {
            "text/plain": [
              "6"
            ]
          },
          "metadata": {},
          "execution_count": 6
        }
      ]
    },
    {
      "cell_type": "code",
      "source": [
        "def is_even(num):\n",
        "  if num%2==0:\n",
        "    return True\n",
        "  else:\n",
        "    return False\n",
        "\n",
        "print(is_even(2))\n",
        "print(is_even(3))\n"
      ],
      "metadata": {
        "colab": {
          "base_uri": "https://localhost:8080/"
        },
        "id": "Je2hPL9LoSrn",
        "outputId": "36b899ef-7dbd-404d-ad27-7f9f1ce930c4"
      },
      "execution_count": null,
      "outputs": [
        {
          "output_type": "stream",
          "name": "stdout",
          "text": [
            "True\n",
            "False\n"
          ]
        }
      ]
    },
    {
      "cell_type": "code",
      "source": [
        "def big_number(a,b):\n",
        "  if a>b:\n",
        "    return a\n",
        "  else:\n",
        "    return b\n",
        "print(big_number(2,3))\n",
        "\n",
        "print(big_number(10,3))"
      ],
      "metadata": {
        "colab": {
          "base_uri": "https://localhost:8080/"
        },
        "id": "TPs7i4zGqvjE",
        "outputId": "d6700f67-74ca-4c50-ac4f-ecd86ac40ad0"
      },
      "execution_count": null,
      "outputs": [
        {
          "output_type": "stream",
          "name": "stdout",
          "text": [
            "3\n",
            "10\n"
          ]
        }
      ]
    },
    {
      "cell_type": "code",
      "source": [
        "def greatest_num(a,b,c):\n",
        "  if a>b and a>c:\n",
        "    return a\n",
        "  elif b>a and b>c:\n",
        "    return b\n",
        "  else:\n",
        "    return c\n",
        "print(greatest_num(1,2,3))"
      ],
      "metadata": {
        "colab": {
          "base_uri": "https://localhost:8080/"
        },
        "id": "gUPVzd-tsCaO",
        "outputId": "d9ec197a-dd71-4380-aa28-9a85091d553a"
      },
      "execution_count": null,
      "outputs": [
        {
          "output_type": "stream",
          "name": "stdout",
          "text": [
            "3\n"
          ]
        }
      ]
    },
    {
      "cell_type": "code",
      "source": [
        "def hello(*args,**kwargs):\n",
        "  print(args)\n",
        "  print(kwargs)\n",
        "\n",
        "hello('Vishal','Choudhari',age=21,dob=2003)"
      ],
      "metadata": {
        "id": "_eZkbVMNsz1I",
        "colab": {
          "base_uri": "https://localhost:8080/"
        },
        "outputId": "dd4dda7c-debf-4df7-f4f7-823369f9a4d9"
      },
      "execution_count": 1,
      "outputs": [
        {
          "output_type": "stream",
          "name": "stdout",
          "text": [
            "('Vishal', 'Choudhari')\n",
            "{'age': 21, 'dob': 2003}\n"
          ]
        }
      ]
    },
    {
      "cell_type": "code",
      "source": [
        "lst=['Vishal','Choudhari']\n",
        "dict_args={'age':21,'dob':2003}\n",
        "hello(*lst,**dict_args)"
      ],
      "metadata": {
        "colab": {
          "base_uri": "https://localhost:8080/"
        },
        "id": "Dsv-F18XdM6z",
        "outputId": "9d1d769c-1aff-4a4b-817c-a157cdb278bf"
      },
      "execution_count": 5,
      "outputs": [
        {
          "output_type": "stream",
          "name": "stdout",
          "text": [
            "('Vishal', 'Choudhari')\n",
            "{'age': 21, 'dob': 2003}\n"
          ]
        }
      ]
    },
    {
      "cell_type": "code",
      "source": [],
      "metadata": {
        "id": "zqsgUYzmdXpN"
      },
      "execution_count": null,
      "outputs": []
    }
  ]
}